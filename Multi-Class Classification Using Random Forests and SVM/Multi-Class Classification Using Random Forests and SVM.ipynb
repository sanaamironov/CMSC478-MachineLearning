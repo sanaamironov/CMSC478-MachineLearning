{
 "cells": [
  {
   "cell_type": "markdown",
   "metadata": {
    "colab_type": "text",
    "id": "-Lfm255-BxvD"
   },
   "source": [
    "# CMSC478 Machine Learning - Spring 2020\n",
    "\n",
    "## Instructor: Fereydoon Vafaei\n",
    "\n",
    "### <font color=\"blue\">Assignment-2: Multi-Class Classification Using Random Forests and SVM</font>"
   ]
  },
  {
   "cell_type": "markdown",
   "metadata": {
    "colab_type": "text",
    "id": "jOpwdmAsBxvG"
   },
   "source": [
    "Sanaa Mironov\n",
    "UMBC ID: LJ67374"
   ]
  },
  {
   "cell_type": "markdown",
   "metadata": {
    "colab_type": "text",
    "id": "NUzXl1WIBxvH"
   },
   "source": [
    "## Overview and Learning Objectives"
   ]
  },
  {
   "cell_type": "markdown",
   "metadata": {
    "colab_type": "text",
    "id": "UoaO4vNuBxvI"
   },
   "source": [
    "In Assignment-2, you're going to build on the skills you developed in Assignment-1, and extend them on a relatively larger dataset of video games and their ratings as predicted value.\n",
    "\n",
    "As discussed in the lectures, multi-class classification means your model classifies multiple (more than two) classes/labels. You are going to build classifiers that can predict video game ratings.\n",
    "\n",
    "<b>Note:</b> Read ALL the instructions in this notebook very carefully. Careless reading and skipping lines would be a major source of making mistakes and losing points in your assignments. Some outputs have been shared while some others have not been shared intentionally. You may NOT share the outputs, the code, and the answers in Piazza.\n",
    "\n",
    "Pedagogically, this assignment will help you:\n",
    "- better understand the concepts you learned and how to use ML models in practice. \n",
    "- pratice reading documentation. This is a very important skill in AI/ML/Data Science collaborative environments and teams.\n",
    "\n",
    "So, let's get started!"
   ]
  },
  {
   "cell_type": "markdown",
   "metadata": {
    "colab_type": "text",
    "id": "CjwcS4KgBxvJ"
   },
   "source": [
    "## Part I - Preprocessing"
   ]
  },
  {
   "cell_type": "markdown",
   "metadata": {
    "colab_type": "text",
    "id": "JqrGaviVBxvL"
   },
   "source": [
    "The description of the dataset you're going to work on can be seen [here](https://www.kaggle.com/rush4ratio/video-game-sales-with-ratings). You are going to use the features to predict video game rating - `Rating` column.\n",
    "\n",
    "You can download the dataset directly from [here](https://github.com/fereydoonvafaei/CMSC478-Spring2020/blob/master/Assignment-2/video-games.csv).\n",
    "\n",
    "Follow the instructions for loading the data, preprocessing, training and testing carefully. You can enter your code in the areas with elipsis `...` notation."
   ]
  },
  {
   "cell_type": "markdown",
   "metadata": {
    "colab_type": "text",
    "id": "Hgm3AWHfBxvM"
   },
   "source": [
    "About the video games Content\n",
    "Alongside the fields: Name, Platform, YearofRelease, Genre, Publisher, NASales, EUSales, JPSales, OtherSales, Global_Sales, we have:-\n",
    "\n",
    "Critic_score - Aggregate score compiled by Metacritic staff\n",
    "Criticcount - The number of critics used in coming up with the Criticscore\n",
    "User_score - Score by Metacritic's subscribers\n",
    "Usercount - Number of users who gave the userscore\n",
    "Developer - Party responsible for creating the game\n",
    "Rating - The ESRB ratings"
   ]
  },
  {
   "cell_type": "markdown",
   "metadata": {
    "colab_type": "text",
    "id": "1VHsYkDyBxvM"
   },
   "source": [
    "## <font color=\"red\"> Required Coding"
   ]
  },
  {
   "cell_type": "code",
   "execution_count": 1,
   "metadata": {
    "colab": {},
    "colab_type": "code",
    "id": "5Mr3rrFhBxvN"
   },
   "outputs": [],
   "source": [
    "# Import all the necessary modules from python and sklearn\n",
    "# You may start with pandas, numpy and matplotlib,\n",
    "# and keep adding the necessary modules here as you move forward\n",
    "import numpy as np\n",
    "import pandas as pd\n",
    "from sklearn import svm\n",
    "from sklearn.model_selection import train_test_split\n",
    "from sklearn.ensemble import RandomForestClassifier\n",
    "from sklearn.model_selection import cross_val_score\n",
    "import sklearn.metrics as metrics\n",
    "\n",
    "\n",
    "# To plot pretty figures\n",
    "%matplotlib inline\n",
    "import matplotlib as mpl\n",
    "import matplotlib.pyplot as plt\n",
    "mpl.rc('axes', labelsize=14)\n",
    "mpl.rc('xtick', labelsize=12)\n",
    "mpl.rc('ytick', labelsize=12)\n",
    "\n",
    "import warnings\n",
    "warnings.filterwarnings(\"ignore\")"
   ]
  },
  {
   "cell_type": "code",
   "execution_count": 2,
   "metadata": {
    "colab": {
     "base_uri": "https://localhost:8080/",
     "height": 292
    },
    "colab_type": "code",
    "executionInfo": {
     "elapsed": 986,
     "status": "ok",
     "timestamp": 1584071843139,
     "user": {
      "displayName": "Sanaa Mironov",
      "photoUrl": "https://lh3.googleusercontent.com/a-/AOh14GgATq5J8oFPh3HK3TB5aa66p6ZzMI4XUdabm8YO=s64",
      "userId": "05128163617638463476"
     },
     "user_tz": 240
    },
    "id": "BDSfFACaBxvR",
    "outputId": "77d92283-2909-4bab-f302-4b89cd84577a"
   },
   "outputs": [
    {
     "name": "stdout",
     "output_type": "stream",
     "text": [
      "(16719, 16)\n"
     ]
    },
    {
     "data": {
      "text/html": [
       "<div>\n",
       "<style scoped>\n",
       "    .dataframe tbody tr th:only-of-type {\n",
       "        vertical-align: middle;\n",
       "    }\n",
       "\n",
       "    .dataframe tbody tr th {\n",
       "        vertical-align: top;\n",
       "    }\n",
       "\n",
       "    .dataframe thead th {\n",
       "        text-align: right;\n",
       "    }\n",
       "</style>\n",
       "<table border=\"1\" class=\"dataframe\">\n",
       "  <thead>\n",
       "    <tr style=\"text-align: right;\">\n",
       "      <th></th>\n",
       "      <th>Name</th>\n",
       "      <th>Platform</th>\n",
       "      <th>Year_of_Release</th>\n",
       "      <th>Genre</th>\n",
       "      <th>Publisher</th>\n",
       "      <th>NA_Sales</th>\n",
       "      <th>EU_Sales</th>\n",
       "      <th>JP_Sales</th>\n",
       "      <th>Other_Sales</th>\n",
       "      <th>Global_Sales</th>\n",
       "      <th>Critic_Score</th>\n",
       "      <th>Critic_Count</th>\n",
       "      <th>User_Score</th>\n",
       "      <th>User_Count</th>\n",
       "      <th>Developer</th>\n",
       "      <th>Rating</th>\n",
       "    </tr>\n",
       "  </thead>\n",
       "  <tbody>\n",
       "    <tr>\n",
       "      <td>0</td>\n",
       "      <td>Wii Sports</td>\n",
       "      <td>Wii</td>\n",
       "      <td>2006.0</td>\n",
       "      <td>Sports</td>\n",
       "      <td>Nintendo</td>\n",
       "      <td>41.36</td>\n",
       "      <td>28.96</td>\n",
       "      <td>3.77</td>\n",
       "      <td>8.45</td>\n",
       "      <td>82.53</td>\n",
       "      <td>76.0</td>\n",
       "      <td>51.0</td>\n",
       "      <td>8</td>\n",
       "      <td>322.0</td>\n",
       "      <td>Nintendo</td>\n",
       "      <td>E</td>\n",
       "    </tr>\n",
       "    <tr>\n",
       "      <td>1</td>\n",
       "      <td>Super Mario Bros.</td>\n",
       "      <td>NES</td>\n",
       "      <td>1985.0</td>\n",
       "      <td>Platform</td>\n",
       "      <td>Nintendo</td>\n",
       "      <td>29.08</td>\n",
       "      <td>3.58</td>\n",
       "      <td>6.81</td>\n",
       "      <td>0.77</td>\n",
       "      <td>40.24</td>\n",
       "      <td>NaN</td>\n",
       "      <td>NaN</td>\n",
       "      <td>NaN</td>\n",
       "      <td>NaN</td>\n",
       "      <td>NaN</td>\n",
       "      <td>NaN</td>\n",
       "    </tr>\n",
       "    <tr>\n",
       "      <td>2</td>\n",
       "      <td>Mario Kart Wii</td>\n",
       "      <td>Wii</td>\n",
       "      <td>2008.0</td>\n",
       "      <td>Racing</td>\n",
       "      <td>Nintendo</td>\n",
       "      <td>15.68</td>\n",
       "      <td>12.76</td>\n",
       "      <td>3.79</td>\n",
       "      <td>3.29</td>\n",
       "      <td>35.52</td>\n",
       "      <td>82.0</td>\n",
       "      <td>73.0</td>\n",
       "      <td>8.3</td>\n",
       "      <td>709.0</td>\n",
       "      <td>Nintendo</td>\n",
       "      <td>E</td>\n",
       "    </tr>\n",
       "    <tr>\n",
       "      <td>3</td>\n",
       "      <td>Wii Sports Resort</td>\n",
       "      <td>Wii</td>\n",
       "      <td>2009.0</td>\n",
       "      <td>Sports</td>\n",
       "      <td>Nintendo</td>\n",
       "      <td>15.61</td>\n",
       "      <td>10.93</td>\n",
       "      <td>3.28</td>\n",
       "      <td>2.95</td>\n",
       "      <td>32.77</td>\n",
       "      <td>80.0</td>\n",
       "      <td>73.0</td>\n",
       "      <td>8</td>\n",
       "      <td>192.0</td>\n",
       "      <td>Nintendo</td>\n",
       "      <td>E</td>\n",
       "    </tr>\n",
       "    <tr>\n",
       "      <td>4</td>\n",
       "      <td>Pokemon Red/Pokemon Blue</td>\n",
       "      <td>GB</td>\n",
       "      <td>1996.0</td>\n",
       "      <td>Role-Playing</td>\n",
       "      <td>Nintendo</td>\n",
       "      <td>11.27</td>\n",
       "      <td>8.89</td>\n",
       "      <td>10.22</td>\n",
       "      <td>1.00</td>\n",
       "      <td>31.37</td>\n",
       "      <td>NaN</td>\n",
       "      <td>NaN</td>\n",
       "      <td>NaN</td>\n",
       "      <td>NaN</td>\n",
       "      <td>NaN</td>\n",
       "      <td>NaN</td>\n",
       "    </tr>\n",
       "  </tbody>\n",
       "</table>\n",
       "</div>"
      ],
      "text/plain": [
       "                       Name Platform  Year_of_Release         Genre Publisher  \\\n",
       "0                Wii Sports      Wii           2006.0        Sports  Nintendo   \n",
       "1         Super Mario Bros.      NES           1985.0      Platform  Nintendo   \n",
       "2            Mario Kart Wii      Wii           2008.0        Racing  Nintendo   \n",
       "3         Wii Sports Resort      Wii           2009.0        Sports  Nintendo   \n",
       "4  Pokemon Red/Pokemon Blue       GB           1996.0  Role-Playing  Nintendo   \n",
       "\n",
       "   NA_Sales  EU_Sales  JP_Sales  Other_Sales  Global_Sales  Critic_Score  \\\n",
       "0     41.36     28.96      3.77         8.45         82.53          76.0   \n",
       "1     29.08      3.58      6.81         0.77         40.24           NaN   \n",
       "2     15.68     12.76      3.79         3.29         35.52          82.0   \n",
       "3     15.61     10.93      3.28         2.95         32.77          80.0   \n",
       "4     11.27      8.89     10.22         1.00         31.37           NaN   \n",
       "\n",
       "   Critic_Count User_Score  User_Count Developer Rating  \n",
       "0          51.0          8       322.0  Nintendo      E  \n",
       "1           NaN        NaN         NaN       NaN    NaN  \n",
       "2          73.0        8.3       709.0  Nintendo      E  \n",
       "3          73.0          8       192.0  Nintendo      E  \n",
       "4           NaN        NaN         NaN       NaN    NaN  "
      ]
     },
     "execution_count": 2,
     "metadata": {},
     "output_type": "execute_result"
    }
   ],
   "source": [
    "# Load the data as a dataframe using pandas\n",
    "game_data = pd.read_csv('video-games.csv')\n",
    "\n",
    "print(game_data.shape)\n",
    "game_data.head()"
   ]
  },
  {
   "cell_type": "code",
   "execution_count": 3,
   "metadata": {
    "colab": {},
    "colab_type": "code",
    "id": "dlvk8vFBBxvV",
    "scrolled": true
   },
   "outputs": [],
   "source": [
    "#Check if there are NAs\n",
    "#game_data.isna()"
   ]
  },
  {
   "cell_type": "code",
   "execution_count": 4,
   "metadata": {
    "colab": {
     "base_uri": "https://localhost:8080/",
     "height": 373
    },
    "colab_type": "code",
    "executionInfo": {
     "elapsed": 715,
     "status": "ok",
     "timestamp": 1584071848670,
     "user": {
      "displayName": "Sanaa Mironov",
      "photoUrl": "https://lh3.googleusercontent.com/a-/AOh14GgATq5J8oFPh3HK3TB5aa66p6ZzMI4XUdabm8YO=s64",
      "userId": "05128163617638463476"
     },
     "user_tz": 240
    },
    "id": "Jyoz80LuBxvZ",
    "outputId": "87a0a81f-52bf-4abb-c89f-c9aae646cbca"
   },
   "outputs": [
    {
     "name": "stdout",
     "output_type": "stream",
     "text": [
      "(6825, 16)\n"
     ]
    },
    {
     "data": {
      "text/html": [
       "<div>\n",
       "<style scoped>\n",
       "    .dataframe tbody tr th:only-of-type {\n",
       "        vertical-align: middle;\n",
       "    }\n",
       "\n",
       "    .dataframe tbody tr th {\n",
       "        vertical-align: top;\n",
       "    }\n",
       "\n",
       "    .dataframe thead th {\n",
       "        text-align: right;\n",
       "    }\n",
       "</style>\n",
       "<table border=\"1\" class=\"dataframe\">\n",
       "  <thead>\n",
       "    <tr style=\"text-align: right;\">\n",
       "      <th></th>\n",
       "      <th>Name</th>\n",
       "      <th>Platform</th>\n",
       "      <th>Year_of_Release</th>\n",
       "      <th>Genre</th>\n",
       "      <th>Publisher</th>\n",
       "      <th>NA_Sales</th>\n",
       "      <th>EU_Sales</th>\n",
       "      <th>JP_Sales</th>\n",
       "      <th>Other_Sales</th>\n",
       "      <th>Global_Sales</th>\n",
       "      <th>Critic_Score</th>\n",
       "      <th>Critic_Count</th>\n",
       "      <th>User_Score</th>\n",
       "      <th>User_Count</th>\n",
       "      <th>Developer</th>\n",
       "      <th>Rating</th>\n",
       "    </tr>\n",
       "  </thead>\n",
       "  <tbody>\n",
       "    <tr>\n",
       "      <td>0</td>\n",
       "      <td>Wii Sports</td>\n",
       "      <td>Wii</td>\n",
       "      <td>2006.0</td>\n",
       "      <td>Sports</td>\n",
       "      <td>Nintendo</td>\n",
       "      <td>41.36</td>\n",
       "      <td>28.96</td>\n",
       "      <td>3.77</td>\n",
       "      <td>8.45</td>\n",
       "      <td>82.53</td>\n",
       "      <td>76.0</td>\n",
       "      <td>51.0</td>\n",
       "      <td>8</td>\n",
       "      <td>322.0</td>\n",
       "      <td>Nintendo</td>\n",
       "      <td>E</td>\n",
       "    </tr>\n",
       "    <tr>\n",
       "      <td>2</td>\n",
       "      <td>Mario Kart Wii</td>\n",
       "      <td>Wii</td>\n",
       "      <td>2008.0</td>\n",
       "      <td>Racing</td>\n",
       "      <td>Nintendo</td>\n",
       "      <td>15.68</td>\n",
       "      <td>12.76</td>\n",
       "      <td>3.79</td>\n",
       "      <td>3.29</td>\n",
       "      <td>35.52</td>\n",
       "      <td>82.0</td>\n",
       "      <td>73.0</td>\n",
       "      <td>8.3</td>\n",
       "      <td>709.0</td>\n",
       "      <td>Nintendo</td>\n",
       "      <td>E</td>\n",
       "    </tr>\n",
       "    <tr>\n",
       "      <td>3</td>\n",
       "      <td>Wii Sports Resort</td>\n",
       "      <td>Wii</td>\n",
       "      <td>2009.0</td>\n",
       "      <td>Sports</td>\n",
       "      <td>Nintendo</td>\n",
       "      <td>15.61</td>\n",
       "      <td>10.93</td>\n",
       "      <td>3.28</td>\n",
       "      <td>2.95</td>\n",
       "      <td>32.77</td>\n",
       "      <td>80.0</td>\n",
       "      <td>73.0</td>\n",
       "      <td>8</td>\n",
       "      <td>192.0</td>\n",
       "      <td>Nintendo</td>\n",
       "      <td>E</td>\n",
       "    </tr>\n",
       "    <tr>\n",
       "      <td>6</td>\n",
       "      <td>New Super Mario Bros.</td>\n",
       "      <td>DS</td>\n",
       "      <td>2006.0</td>\n",
       "      <td>Platform</td>\n",
       "      <td>Nintendo</td>\n",
       "      <td>11.28</td>\n",
       "      <td>9.14</td>\n",
       "      <td>6.50</td>\n",
       "      <td>2.88</td>\n",
       "      <td>29.80</td>\n",
       "      <td>89.0</td>\n",
       "      <td>65.0</td>\n",
       "      <td>8.5</td>\n",
       "      <td>431.0</td>\n",
       "      <td>Nintendo</td>\n",
       "      <td>E</td>\n",
       "    </tr>\n",
       "    <tr>\n",
       "      <td>7</td>\n",
       "      <td>Wii Play</td>\n",
       "      <td>Wii</td>\n",
       "      <td>2006.0</td>\n",
       "      <td>Misc</td>\n",
       "      <td>Nintendo</td>\n",
       "      <td>13.96</td>\n",
       "      <td>9.18</td>\n",
       "      <td>2.93</td>\n",
       "      <td>2.84</td>\n",
       "      <td>28.92</td>\n",
       "      <td>58.0</td>\n",
       "      <td>41.0</td>\n",
       "      <td>6.6</td>\n",
       "      <td>129.0</td>\n",
       "      <td>Nintendo</td>\n",
       "      <td>E</td>\n",
       "    </tr>\n",
       "  </tbody>\n",
       "</table>\n",
       "</div>"
      ],
      "text/plain": [
       "                    Name Platform  Year_of_Release     Genre Publisher  \\\n",
       "0             Wii Sports      Wii           2006.0    Sports  Nintendo   \n",
       "2         Mario Kart Wii      Wii           2008.0    Racing  Nintendo   \n",
       "3      Wii Sports Resort      Wii           2009.0    Sports  Nintendo   \n",
       "6  New Super Mario Bros.       DS           2006.0  Platform  Nintendo   \n",
       "7               Wii Play      Wii           2006.0      Misc  Nintendo   \n",
       "\n",
       "   NA_Sales  EU_Sales  JP_Sales  Other_Sales  Global_Sales  Critic_Score  \\\n",
       "0     41.36     28.96      3.77         8.45         82.53          76.0   \n",
       "2     15.68     12.76      3.79         3.29         35.52          82.0   \n",
       "3     15.61     10.93      3.28         2.95         32.77          80.0   \n",
       "6     11.28      9.14      6.50         2.88         29.80          89.0   \n",
       "7     13.96      9.18      2.93         2.84         28.92          58.0   \n",
       "\n",
       "   Critic_Count User_Score  User_Count Developer Rating  \n",
       "0          51.0          8       322.0  Nintendo      E  \n",
       "2          73.0        8.3       709.0  Nintendo      E  \n",
       "3          73.0          8       192.0  Nintendo      E  \n",
       "6          65.0        8.5       431.0  Nintendo      E  \n",
       "7          41.0        6.6       129.0  Nintendo      E  "
      ]
     },
     "execution_count": 4,
     "metadata": {},
     "output_type": "execute_result"
    }
   ],
   "source": [
    "# Drop NAs\n",
    "#drop those Na values from dataframe\n",
    "game_data = game_data.dropna()\n",
    "\n",
    "print(game_data.shape)\n",
    "game_data.head()"
   ]
  },
  {
   "cell_type": "code",
   "execution_count": 5,
   "metadata": {
    "colab": {
     "base_uri": "https://localhost:8080/",
     "height": 82
    },
    "colab_type": "code",
    "executionInfo": {
     "elapsed": 1189,
     "status": "ok",
     "timestamp": 1584071851854,
     "user": {
      "displayName": "Sanaa Mironov",
      "photoUrl": "https://lh3.googleusercontent.com/a-/AOh14GgATq5J8oFPh3HK3TB5aa66p6ZzMI4XUdabm8YO=s64",
      "userId": "05128163617638463476"
     },
     "user_tz": 240
    },
    "id": "kcnAhDJxBxvh",
    "outputId": "f7a38d9b-5afa-48aa-b76d-288526bf372c"
   },
   "outputs": [
    {
     "data": {
      "text/plain": [
       "Index(['Name', 'Platform', 'Year_of_Release', 'Genre', 'Publisher', 'NA_Sales',\n",
       "       'EU_Sales', 'JP_Sales', 'Other_Sales', 'Global_Sales', 'Critic_Score',\n",
       "       'Critic_Count', 'User_Score', 'User_Count', 'Developer', 'Rating'],\n",
       "      dtype='object')"
      ]
     },
     "execution_count": 5,
     "metadata": {},
     "output_type": "execute_result"
    }
   ],
   "source": [
    "# Check game_data columns\n",
    "game_data.columns"
   ]
  },
  {
   "cell_type": "code",
   "execution_count": 6,
   "metadata": {
    "colab": {
     "base_uri": "https://localhost:8080/",
     "height": 227
    },
    "colab_type": "code",
    "executionInfo": {
     "elapsed": 678,
     "status": "ok",
     "timestamp": 1584071854172,
     "user": {
      "displayName": "Sanaa Mironov",
      "photoUrl": "https://lh3.googleusercontent.com/a-/AOh14GgATq5J8oFPh3HK3TB5aa66p6ZzMI4XUdabm8YO=s64",
      "userId": "05128163617638463476"
     },
     "user_tz": 240
    },
    "id": "nUAiPRO7Bxvm",
    "outputId": "c46e8889-1cab-4700-f3d6-87d0a0fa6c23"
   },
   "outputs": [
    {
     "name": "stdout",
     "output_type": "stream",
     "text": [
      "(6825, 15)\n"
     ]
    },
    {
     "data": {
      "text/html": [
       "<div>\n",
       "<style scoped>\n",
       "    .dataframe tbody tr th:only-of-type {\n",
       "        vertical-align: middle;\n",
       "    }\n",
       "\n",
       "    .dataframe tbody tr th {\n",
       "        vertical-align: top;\n",
       "    }\n",
       "\n",
       "    .dataframe thead th {\n",
       "        text-align: right;\n",
       "    }\n",
       "</style>\n",
       "<table border=\"1\" class=\"dataframe\">\n",
       "  <thead>\n",
       "    <tr style=\"text-align: right;\">\n",
       "      <th></th>\n",
       "      <th>Platform</th>\n",
       "      <th>Year_of_Release</th>\n",
       "      <th>Genre</th>\n",
       "      <th>Publisher</th>\n",
       "      <th>NA_Sales</th>\n",
       "      <th>EU_Sales</th>\n",
       "      <th>JP_Sales</th>\n",
       "      <th>Other_Sales</th>\n",
       "      <th>Global_Sales</th>\n",
       "      <th>Critic_Score</th>\n",
       "      <th>Critic_Count</th>\n",
       "      <th>User_Score</th>\n",
       "      <th>User_Count</th>\n",
       "      <th>Developer</th>\n",
       "      <th>Rating</th>\n",
       "    </tr>\n",
       "  </thead>\n",
       "  <tbody>\n",
       "    <tr>\n",
       "      <td>0</td>\n",
       "      <td>Wii</td>\n",
       "      <td>2006.0</td>\n",
       "      <td>Sports</td>\n",
       "      <td>Nintendo</td>\n",
       "      <td>41.36</td>\n",
       "      <td>28.96</td>\n",
       "      <td>3.77</td>\n",
       "      <td>8.45</td>\n",
       "      <td>82.53</td>\n",
       "      <td>76.0</td>\n",
       "      <td>51.0</td>\n",
       "      <td>8</td>\n",
       "      <td>322.0</td>\n",
       "      <td>Nintendo</td>\n",
       "      <td>E</td>\n",
       "    </tr>\n",
       "    <tr>\n",
       "      <td>2</td>\n",
       "      <td>Wii</td>\n",
       "      <td>2008.0</td>\n",
       "      <td>Racing</td>\n",
       "      <td>Nintendo</td>\n",
       "      <td>15.68</td>\n",
       "      <td>12.76</td>\n",
       "      <td>3.79</td>\n",
       "      <td>3.29</td>\n",
       "      <td>35.52</td>\n",
       "      <td>82.0</td>\n",
       "      <td>73.0</td>\n",
       "      <td>8.3</td>\n",
       "      <td>709.0</td>\n",
       "      <td>Nintendo</td>\n",
       "      <td>E</td>\n",
       "    </tr>\n",
       "    <tr>\n",
       "      <td>3</td>\n",
       "      <td>Wii</td>\n",
       "      <td>2009.0</td>\n",
       "      <td>Sports</td>\n",
       "      <td>Nintendo</td>\n",
       "      <td>15.61</td>\n",
       "      <td>10.93</td>\n",
       "      <td>3.28</td>\n",
       "      <td>2.95</td>\n",
       "      <td>32.77</td>\n",
       "      <td>80.0</td>\n",
       "      <td>73.0</td>\n",
       "      <td>8</td>\n",
       "      <td>192.0</td>\n",
       "      <td>Nintendo</td>\n",
       "      <td>E</td>\n",
       "    </tr>\n",
       "    <tr>\n",
       "      <td>6</td>\n",
       "      <td>DS</td>\n",
       "      <td>2006.0</td>\n",
       "      <td>Platform</td>\n",
       "      <td>Nintendo</td>\n",
       "      <td>11.28</td>\n",
       "      <td>9.14</td>\n",
       "      <td>6.50</td>\n",
       "      <td>2.88</td>\n",
       "      <td>29.80</td>\n",
       "      <td>89.0</td>\n",
       "      <td>65.0</td>\n",
       "      <td>8.5</td>\n",
       "      <td>431.0</td>\n",
       "      <td>Nintendo</td>\n",
       "      <td>E</td>\n",
       "    </tr>\n",
       "    <tr>\n",
       "      <td>7</td>\n",
       "      <td>Wii</td>\n",
       "      <td>2006.0</td>\n",
       "      <td>Misc</td>\n",
       "      <td>Nintendo</td>\n",
       "      <td>13.96</td>\n",
       "      <td>9.18</td>\n",
       "      <td>2.93</td>\n",
       "      <td>2.84</td>\n",
       "      <td>28.92</td>\n",
       "      <td>58.0</td>\n",
       "      <td>41.0</td>\n",
       "      <td>6.6</td>\n",
       "      <td>129.0</td>\n",
       "      <td>Nintendo</td>\n",
       "      <td>E</td>\n",
       "    </tr>\n",
       "  </tbody>\n",
       "</table>\n",
       "</div>"
      ],
      "text/plain": [
       "  Platform  Year_of_Release     Genre Publisher  NA_Sales  EU_Sales  JP_Sales  \\\n",
       "0      Wii           2006.0    Sports  Nintendo     41.36     28.96      3.77   \n",
       "2      Wii           2008.0    Racing  Nintendo     15.68     12.76      3.79   \n",
       "3      Wii           2009.0    Sports  Nintendo     15.61     10.93      3.28   \n",
       "6       DS           2006.0  Platform  Nintendo     11.28      9.14      6.50   \n",
       "7      Wii           2006.0      Misc  Nintendo     13.96      9.18      2.93   \n",
       "\n",
       "   Other_Sales  Global_Sales  Critic_Score  Critic_Count User_Score  \\\n",
       "0         8.45         82.53          76.0          51.0          8   \n",
       "2         3.29         35.52          82.0          73.0        8.3   \n",
       "3         2.95         32.77          80.0          73.0          8   \n",
       "6         2.88         29.80          89.0          65.0        8.5   \n",
       "7         2.84         28.92          58.0          41.0        6.6   \n",
       "\n",
       "   User_Count Developer Rating  \n",
       "0       322.0  Nintendo      E  \n",
       "2       709.0  Nintendo      E  \n",
       "3       192.0  Nintendo      E  \n",
       "6       431.0  Nintendo      E  \n",
       "7       129.0  Nintendo      E  "
      ]
     },
     "execution_count": 6,
     "metadata": {},
     "output_type": "execute_result"
    }
   ],
   "source": [
    "# Drop \"Name\" column as it does not provide any useful info\n",
    "game_data = game_data.drop(['Name'], axis=1)\n",
    "\n",
    "print(game_data.shape)\n",
    "game_data.head()"
   ]
  },
  {
   "cell_type": "code",
   "execution_count": 7,
   "metadata": {
    "colab": {
     "base_uri": "https://localhost:8080/",
     "height": 207
    },
    "colab_type": "code",
    "executionInfo": {
     "elapsed": 1894,
     "status": "ok",
     "timestamp": 1584071858157,
     "user": {
      "displayName": "Sanaa Mironov",
      "photoUrl": "https://lh3.googleusercontent.com/a-/AOh14GgATq5J8oFPh3HK3TB5aa66p6ZzMI4XUdabm8YO=s64",
      "userId": "05128163617638463476"
     },
     "user_tz": 240
    },
    "id": "nCupQwtbBxvp",
    "outputId": "b3ff7ff0-d7e3-45a3-98ba-ba910826f203"
   },
   "outputs": [
    {
     "name": "stdout",
     "output_type": "stream",
     "text": [
      "(6825, 14)\n"
     ]
    },
    {
     "data": {
      "text/html": [
       "<div>\n",
       "<style scoped>\n",
       "    .dataframe tbody tr th:only-of-type {\n",
       "        vertical-align: middle;\n",
       "    }\n",
       "\n",
       "    .dataframe tbody tr th {\n",
       "        vertical-align: top;\n",
       "    }\n",
       "\n",
       "    .dataframe thead th {\n",
       "        text-align: right;\n",
       "    }\n",
       "</style>\n",
       "<table border=\"1\" class=\"dataframe\">\n",
       "  <thead>\n",
       "    <tr style=\"text-align: right;\">\n",
       "      <th></th>\n",
       "      <th>Platform</th>\n",
       "      <th>Year_of_Release</th>\n",
       "      <th>Genre</th>\n",
       "      <th>Publisher</th>\n",
       "      <th>NA_Sales</th>\n",
       "      <th>EU_Sales</th>\n",
       "      <th>JP_Sales</th>\n",
       "      <th>Other_Sales</th>\n",
       "      <th>Critic_Score</th>\n",
       "      <th>Critic_Count</th>\n",
       "      <th>User_Score</th>\n",
       "      <th>User_Count</th>\n",
       "      <th>Developer</th>\n",
       "      <th>Rating</th>\n",
       "    </tr>\n",
       "  </thead>\n",
       "  <tbody>\n",
       "    <tr>\n",
       "      <td>0</td>\n",
       "      <td>Wii</td>\n",
       "      <td>2006.0</td>\n",
       "      <td>Sports</td>\n",
       "      <td>Nintendo</td>\n",
       "      <td>41.36</td>\n",
       "      <td>28.96</td>\n",
       "      <td>3.77</td>\n",
       "      <td>8.45</td>\n",
       "      <td>76.0</td>\n",
       "      <td>51.0</td>\n",
       "      <td>8</td>\n",
       "      <td>322.0</td>\n",
       "      <td>Nintendo</td>\n",
       "      <td>E</td>\n",
       "    </tr>\n",
       "    <tr>\n",
       "      <td>2</td>\n",
       "      <td>Wii</td>\n",
       "      <td>2008.0</td>\n",
       "      <td>Racing</td>\n",
       "      <td>Nintendo</td>\n",
       "      <td>15.68</td>\n",
       "      <td>12.76</td>\n",
       "      <td>3.79</td>\n",
       "      <td>3.29</td>\n",
       "      <td>82.0</td>\n",
       "      <td>73.0</td>\n",
       "      <td>8.3</td>\n",
       "      <td>709.0</td>\n",
       "      <td>Nintendo</td>\n",
       "      <td>E</td>\n",
       "    </tr>\n",
       "    <tr>\n",
       "      <td>3</td>\n",
       "      <td>Wii</td>\n",
       "      <td>2009.0</td>\n",
       "      <td>Sports</td>\n",
       "      <td>Nintendo</td>\n",
       "      <td>15.61</td>\n",
       "      <td>10.93</td>\n",
       "      <td>3.28</td>\n",
       "      <td>2.95</td>\n",
       "      <td>80.0</td>\n",
       "      <td>73.0</td>\n",
       "      <td>8</td>\n",
       "      <td>192.0</td>\n",
       "      <td>Nintendo</td>\n",
       "      <td>E</td>\n",
       "    </tr>\n",
       "    <tr>\n",
       "      <td>6</td>\n",
       "      <td>DS</td>\n",
       "      <td>2006.0</td>\n",
       "      <td>Platform</td>\n",
       "      <td>Nintendo</td>\n",
       "      <td>11.28</td>\n",
       "      <td>9.14</td>\n",
       "      <td>6.50</td>\n",
       "      <td>2.88</td>\n",
       "      <td>89.0</td>\n",
       "      <td>65.0</td>\n",
       "      <td>8.5</td>\n",
       "      <td>431.0</td>\n",
       "      <td>Nintendo</td>\n",
       "      <td>E</td>\n",
       "    </tr>\n",
       "    <tr>\n",
       "      <td>7</td>\n",
       "      <td>Wii</td>\n",
       "      <td>2006.0</td>\n",
       "      <td>Misc</td>\n",
       "      <td>Nintendo</td>\n",
       "      <td>13.96</td>\n",
       "      <td>9.18</td>\n",
       "      <td>2.93</td>\n",
       "      <td>2.84</td>\n",
       "      <td>58.0</td>\n",
       "      <td>41.0</td>\n",
       "      <td>6.6</td>\n",
       "      <td>129.0</td>\n",
       "      <td>Nintendo</td>\n",
       "      <td>E</td>\n",
       "    </tr>\n",
       "  </tbody>\n",
       "</table>\n",
       "</div>"
      ],
      "text/plain": [
       "  Platform  Year_of_Release     Genre Publisher  NA_Sales  EU_Sales  JP_Sales  \\\n",
       "0      Wii           2006.0    Sports  Nintendo     41.36     28.96      3.77   \n",
       "2      Wii           2008.0    Racing  Nintendo     15.68     12.76      3.79   \n",
       "3      Wii           2009.0    Sports  Nintendo     15.61     10.93      3.28   \n",
       "6       DS           2006.0  Platform  Nintendo     11.28      9.14      6.50   \n",
       "7      Wii           2006.0      Misc  Nintendo     13.96      9.18      2.93   \n",
       "\n",
       "   Other_Sales  Critic_Score  Critic_Count User_Score  User_Count Developer  \\\n",
       "0         8.45          76.0          51.0          8       322.0  Nintendo   \n",
       "2         3.29          82.0          73.0        8.3       709.0  Nintendo   \n",
       "3         2.95          80.0          73.0          8       192.0  Nintendo   \n",
       "6         2.88          89.0          65.0        8.5       431.0  Nintendo   \n",
       "7         2.84          58.0          41.0        6.6       129.0  Nintendo   \n",
       "\n",
       "  Rating  \n",
       "0      E  \n",
       "2      E  \n",
       "3      E  \n",
       "6      E  \n",
       "7      E  "
      ]
     },
     "execution_count": 7,
     "metadata": {},
     "output_type": "execute_result"
    }
   ],
   "source": [
    "# Drop \"Global_Sales\" column as it is a redundant feature - it's just sum of regional and other sales\n",
    "game_data = game_data.drop(['Global_Sales'], axis=1)\n",
    "\n",
    "print(game_data.shape)\n",
    "game_data.head()"
   ]
  },
  {
   "cell_type": "code",
   "execution_count": 8,
   "metadata": {
    "colab": {},
    "colab_type": "code",
    "id": "Nc4F7vxXBxvt"
   },
   "outputs": [],
   "source": [
    "# Get feature vector X (all columns but \"Rating\") and target label y as \"Rating\"\n",
    "X = game_data.drop(['Rating'], axis=1)\n",
    "y = game_data['Rating']"
   ]
  },
  {
   "cell_type": "markdown",
   "metadata": {
    "colab_type": "text",
    "id": "O89zmjk2Bxvx"
   },
   "source": [
    "> You can resort the row indices but it's not necessary."
   ]
  },
  {
   "cell_type": "code",
   "execution_count": 9,
   "metadata": {
    "colab": {
     "base_uri": "https://localhost:8080/",
     "height": 207
    },
    "colab_type": "code",
    "executionInfo": {
     "elapsed": 610,
     "status": "ok",
     "timestamp": 1584071868845,
     "user": {
      "displayName": "Sanaa Mironov",
      "photoUrl": "https://lh3.googleusercontent.com/a-/AOh14GgATq5J8oFPh3HK3TB5aa66p6ZzMI4XUdabm8YO=s64",
      "userId": "05128163617638463476"
     },
     "user_tz": 240
    },
    "id": "NRylu8iFBxvy",
    "outputId": "5ff87f42-546b-4ccf-ff0d-c1ea6f5a1a64"
   },
   "outputs": [
    {
     "name": "stdout",
     "output_type": "stream",
     "text": [
      "(6825, 13)\n"
     ]
    },
    {
     "data": {
      "text/html": [
       "<div>\n",
       "<style scoped>\n",
       "    .dataframe tbody tr th:only-of-type {\n",
       "        vertical-align: middle;\n",
       "    }\n",
       "\n",
       "    .dataframe tbody tr th {\n",
       "        vertical-align: top;\n",
       "    }\n",
       "\n",
       "    .dataframe thead th {\n",
       "        text-align: right;\n",
       "    }\n",
       "</style>\n",
       "<table border=\"1\" class=\"dataframe\">\n",
       "  <thead>\n",
       "    <tr style=\"text-align: right;\">\n",
       "      <th></th>\n",
       "      <th>Platform</th>\n",
       "      <th>Year_of_Release</th>\n",
       "      <th>Genre</th>\n",
       "      <th>Publisher</th>\n",
       "      <th>NA_Sales</th>\n",
       "      <th>EU_Sales</th>\n",
       "      <th>JP_Sales</th>\n",
       "      <th>Other_Sales</th>\n",
       "      <th>Critic_Score</th>\n",
       "      <th>Critic_Count</th>\n",
       "      <th>User_Score</th>\n",
       "      <th>User_Count</th>\n",
       "      <th>Developer</th>\n",
       "    </tr>\n",
       "  </thead>\n",
       "  <tbody>\n",
       "    <tr>\n",
       "      <td>0</td>\n",
       "      <td>Wii</td>\n",
       "      <td>2006.0</td>\n",
       "      <td>Sports</td>\n",
       "      <td>Nintendo</td>\n",
       "      <td>41.36</td>\n",
       "      <td>28.96</td>\n",
       "      <td>3.77</td>\n",
       "      <td>8.45</td>\n",
       "      <td>76.0</td>\n",
       "      <td>51.0</td>\n",
       "      <td>8</td>\n",
       "      <td>322.0</td>\n",
       "      <td>Nintendo</td>\n",
       "    </tr>\n",
       "    <tr>\n",
       "      <td>2</td>\n",
       "      <td>Wii</td>\n",
       "      <td>2008.0</td>\n",
       "      <td>Racing</td>\n",
       "      <td>Nintendo</td>\n",
       "      <td>15.68</td>\n",
       "      <td>12.76</td>\n",
       "      <td>3.79</td>\n",
       "      <td>3.29</td>\n",
       "      <td>82.0</td>\n",
       "      <td>73.0</td>\n",
       "      <td>8.3</td>\n",
       "      <td>709.0</td>\n",
       "      <td>Nintendo</td>\n",
       "    </tr>\n",
       "    <tr>\n",
       "      <td>3</td>\n",
       "      <td>Wii</td>\n",
       "      <td>2009.0</td>\n",
       "      <td>Sports</td>\n",
       "      <td>Nintendo</td>\n",
       "      <td>15.61</td>\n",
       "      <td>10.93</td>\n",
       "      <td>3.28</td>\n",
       "      <td>2.95</td>\n",
       "      <td>80.0</td>\n",
       "      <td>73.0</td>\n",
       "      <td>8</td>\n",
       "      <td>192.0</td>\n",
       "      <td>Nintendo</td>\n",
       "    </tr>\n",
       "    <tr>\n",
       "      <td>6</td>\n",
       "      <td>DS</td>\n",
       "      <td>2006.0</td>\n",
       "      <td>Platform</td>\n",
       "      <td>Nintendo</td>\n",
       "      <td>11.28</td>\n",
       "      <td>9.14</td>\n",
       "      <td>6.50</td>\n",
       "      <td>2.88</td>\n",
       "      <td>89.0</td>\n",
       "      <td>65.0</td>\n",
       "      <td>8.5</td>\n",
       "      <td>431.0</td>\n",
       "      <td>Nintendo</td>\n",
       "    </tr>\n",
       "    <tr>\n",
       "      <td>7</td>\n",
       "      <td>Wii</td>\n",
       "      <td>2006.0</td>\n",
       "      <td>Misc</td>\n",
       "      <td>Nintendo</td>\n",
       "      <td>13.96</td>\n",
       "      <td>9.18</td>\n",
       "      <td>2.93</td>\n",
       "      <td>2.84</td>\n",
       "      <td>58.0</td>\n",
       "      <td>41.0</td>\n",
       "      <td>6.6</td>\n",
       "      <td>129.0</td>\n",
       "      <td>Nintendo</td>\n",
       "    </tr>\n",
       "  </tbody>\n",
       "</table>\n",
       "</div>"
      ],
      "text/plain": [
       "  Platform  Year_of_Release     Genre Publisher  NA_Sales  EU_Sales  JP_Sales  \\\n",
       "0      Wii           2006.0    Sports  Nintendo     41.36     28.96      3.77   \n",
       "2      Wii           2008.0    Racing  Nintendo     15.68     12.76      3.79   \n",
       "3      Wii           2009.0    Sports  Nintendo     15.61     10.93      3.28   \n",
       "6       DS           2006.0  Platform  Nintendo     11.28      9.14      6.50   \n",
       "7      Wii           2006.0      Misc  Nintendo     13.96      9.18      2.93   \n",
       "\n",
       "   Other_Sales  Critic_Score  Critic_Count User_Score  User_Count Developer  \n",
       "0         8.45          76.0          51.0          8       322.0  Nintendo  \n",
       "2         3.29          82.0          73.0        8.3       709.0  Nintendo  \n",
       "3         2.95          80.0          73.0          8       192.0  Nintendo  \n",
       "6         2.88          89.0          65.0        8.5       431.0  Nintendo  \n",
       "7         2.84          58.0          41.0        6.6       129.0  Nintendo  "
      ]
     },
     "execution_count": 9,
     "metadata": {},
     "output_type": "execute_result"
    }
   ],
   "source": [
    "# Print X shape and head\n",
    "print(X.shape)\n",
    "X.head()"
   ]
  },
  {
   "cell_type": "code",
   "execution_count": 10,
   "metadata": {
    "colab": {
     "base_uri": "https://localhost:8080/",
     "height": 82
    },
    "colab_type": "code",
    "executionInfo": {
     "elapsed": 659,
     "status": "ok",
     "timestamp": 1584071871196,
     "user": {
      "displayName": "Sanaa Mironov",
      "photoUrl": "https://lh3.googleusercontent.com/a-/AOh14GgATq5J8oFPh3HK3TB5aa66p6ZzMI4XUdabm8YO=s64",
      "userId": "05128163617638463476"
     },
     "user_tz": 240
    },
    "id": "5CU2GzZKBxv1",
    "outputId": "05d7ef9e-a09d-4dd5-84d6-816641e12f2d"
   },
   "outputs": [
    {
     "data": {
      "text/plain": [
       "Index(['Platform', 'Year_of_Release', 'Genre', 'Publisher', 'NA_Sales',\n",
       "       'EU_Sales', 'JP_Sales', 'Other_Sales', 'Critic_Score', 'Critic_Count',\n",
       "       'User_Score', 'User_Count', 'Developer'],\n",
       "      dtype='object')"
      ]
     },
     "execution_count": 10,
     "metadata": {},
     "output_type": "execute_result"
    }
   ],
   "source": [
    "X.columns"
   ]
  },
  {
   "cell_type": "code",
   "execution_count": 11,
   "metadata": {
    "colab": {
     "base_uri": "https://localhost:8080/",
     "height": 115
    },
    "colab_type": "code",
    "executionInfo": {
     "elapsed": 572,
     "status": "ok",
     "timestamp": 1584071873979,
     "user": {
      "displayName": "Sanaa Mironov",
      "photoUrl": "https://lh3.googleusercontent.com/a-/AOh14GgATq5J8oFPh3HK3TB5aa66p6ZzMI4XUdabm8YO=s64",
      "userId": "05128163617638463476"
     },
     "user_tz": 240
    },
    "id": "4zg3Hj2FBxv4",
    "outputId": "c10821e4-aab7-451b-e17c-643297152bb6"
   },
   "outputs": [
    {
     "data": {
      "text/plain": [
       "0    E\n",
       "2    E\n",
       "3    E\n",
       "6    E\n",
       "7    E\n",
       "Name: Rating, dtype: object"
      ]
     },
     "execution_count": 11,
     "metadata": {},
     "output_type": "execute_result"
    }
   ],
   "source": [
    "y.head()"
   ]
  },
  {
   "cell_type": "markdown",
   "metadata": {
    "colab_type": "text",
    "id": "25lM_BAOBxv6"
   },
   "source": [
    "> Since some of the features are categorical, we need to convert them to numerical. One common technique is One-Hot Encoding which creates dummy variables. You can see some simple examples of one-hot encoding [here](https://pandas.pydata.org/pandas-docs/stable/reference/api/pandas.get_dummies.html)."
   ]
  },
  {
   "cell_type": "code",
   "execution_count": 12,
   "metadata": {
    "colab": {
     "base_uri": "https://localhost:8080/",
     "height": 303
    },
    "colab_type": "code",
    "executionInfo": {
     "elapsed": 598,
     "status": "ok",
     "timestamp": 1584071876378,
     "user": {
      "displayName": "Sanaa Mironov",
      "photoUrl": "https://lh3.googleusercontent.com/a-/AOh14GgATq5J8oFPh3HK3TB5aa66p6ZzMI4XUdabm8YO=s64",
      "userId": "05128163617638463476"
     },
     "user_tz": 240
    },
    "id": "X617NQLYBxv7",
    "outputId": "b824ef17-ad4b-40e9-964d-c365560b670c"
   },
   "outputs": [
    {
     "name": "stdout",
     "output_type": "stream",
     "text": [
      "(6825, 1677)\n"
     ]
    },
    {
     "data": {
      "text/html": [
       "<div>\n",
       "<style scoped>\n",
       "    .dataframe tbody tr th:only-of-type {\n",
       "        vertical-align: middle;\n",
       "    }\n",
       "\n",
       "    .dataframe tbody tr th {\n",
       "        vertical-align: top;\n",
       "    }\n",
       "\n",
       "    .dataframe thead th {\n",
       "        text-align: right;\n",
       "    }\n",
       "</style>\n",
       "<table border=\"1\" class=\"dataframe\">\n",
       "  <thead>\n",
       "    <tr style=\"text-align: right;\">\n",
       "      <th></th>\n",
       "      <th>Year_of_Release</th>\n",
       "      <th>NA_Sales</th>\n",
       "      <th>EU_Sales</th>\n",
       "      <th>JP_Sales</th>\n",
       "      <th>Other_Sales</th>\n",
       "      <th>Critic_Score</th>\n",
       "      <th>Critic_Count</th>\n",
       "      <th>User_Count</th>\n",
       "      <th>Platform_3DS</th>\n",
       "      <th>Platform_DC</th>\n",
       "      <th>...</th>\n",
       "      <th>Developer_h.a.n.d. Inc.</th>\n",
       "      <th>Developer_iNiS</th>\n",
       "      <th>Developer_id Software</th>\n",
       "      <th>Developer_id Software, Nerve Software</th>\n",
       "      <th>Developer_id Software, Raven Software</th>\n",
       "      <th>Developer_n-Space</th>\n",
       "      <th>Developer_neo Software</th>\n",
       "      <th>Developer_odenis studio</th>\n",
       "      <th>Developer_syn Sophia</th>\n",
       "      <th>Developer_zSlide</th>\n",
       "    </tr>\n",
       "  </thead>\n",
       "  <tbody>\n",
       "    <tr>\n",
       "      <td>0</td>\n",
       "      <td>2006.0</td>\n",
       "      <td>41.36</td>\n",
       "      <td>28.96</td>\n",
       "      <td>3.77</td>\n",
       "      <td>8.45</td>\n",
       "      <td>76.0</td>\n",
       "      <td>51.0</td>\n",
       "      <td>322.0</td>\n",
       "      <td>0</td>\n",
       "      <td>0</td>\n",
       "      <td>...</td>\n",
       "      <td>0</td>\n",
       "      <td>0</td>\n",
       "      <td>0</td>\n",
       "      <td>0</td>\n",
       "      <td>0</td>\n",
       "      <td>0</td>\n",
       "      <td>0</td>\n",
       "      <td>0</td>\n",
       "      <td>0</td>\n",
       "      <td>0</td>\n",
       "    </tr>\n",
       "    <tr>\n",
       "      <td>2</td>\n",
       "      <td>2008.0</td>\n",
       "      <td>15.68</td>\n",
       "      <td>12.76</td>\n",
       "      <td>3.79</td>\n",
       "      <td>3.29</td>\n",
       "      <td>82.0</td>\n",
       "      <td>73.0</td>\n",
       "      <td>709.0</td>\n",
       "      <td>0</td>\n",
       "      <td>0</td>\n",
       "      <td>...</td>\n",
       "      <td>0</td>\n",
       "      <td>0</td>\n",
       "      <td>0</td>\n",
       "      <td>0</td>\n",
       "      <td>0</td>\n",
       "      <td>0</td>\n",
       "      <td>0</td>\n",
       "      <td>0</td>\n",
       "      <td>0</td>\n",
       "      <td>0</td>\n",
       "    </tr>\n",
       "    <tr>\n",
       "      <td>3</td>\n",
       "      <td>2009.0</td>\n",
       "      <td>15.61</td>\n",
       "      <td>10.93</td>\n",
       "      <td>3.28</td>\n",
       "      <td>2.95</td>\n",
       "      <td>80.0</td>\n",
       "      <td>73.0</td>\n",
       "      <td>192.0</td>\n",
       "      <td>0</td>\n",
       "      <td>0</td>\n",
       "      <td>...</td>\n",
       "      <td>0</td>\n",
       "      <td>0</td>\n",
       "      <td>0</td>\n",
       "      <td>0</td>\n",
       "      <td>0</td>\n",
       "      <td>0</td>\n",
       "      <td>0</td>\n",
       "      <td>0</td>\n",
       "      <td>0</td>\n",
       "      <td>0</td>\n",
       "    </tr>\n",
       "    <tr>\n",
       "      <td>6</td>\n",
       "      <td>2006.0</td>\n",
       "      <td>11.28</td>\n",
       "      <td>9.14</td>\n",
       "      <td>6.50</td>\n",
       "      <td>2.88</td>\n",
       "      <td>89.0</td>\n",
       "      <td>65.0</td>\n",
       "      <td>431.0</td>\n",
       "      <td>0</td>\n",
       "      <td>0</td>\n",
       "      <td>...</td>\n",
       "      <td>0</td>\n",
       "      <td>0</td>\n",
       "      <td>0</td>\n",
       "      <td>0</td>\n",
       "      <td>0</td>\n",
       "      <td>0</td>\n",
       "      <td>0</td>\n",
       "      <td>0</td>\n",
       "      <td>0</td>\n",
       "      <td>0</td>\n",
       "    </tr>\n",
       "    <tr>\n",
       "      <td>7</td>\n",
       "      <td>2006.0</td>\n",
       "      <td>13.96</td>\n",
       "      <td>9.18</td>\n",
       "      <td>2.93</td>\n",
       "      <td>2.84</td>\n",
       "      <td>58.0</td>\n",
       "      <td>41.0</td>\n",
       "      <td>129.0</td>\n",
       "      <td>0</td>\n",
       "      <td>0</td>\n",
       "      <td>...</td>\n",
       "      <td>0</td>\n",
       "      <td>0</td>\n",
       "      <td>0</td>\n",
       "      <td>0</td>\n",
       "      <td>0</td>\n",
       "      <td>0</td>\n",
       "      <td>0</td>\n",
       "      <td>0</td>\n",
       "      <td>0</td>\n",
       "      <td>0</td>\n",
       "    </tr>\n",
       "  </tbody>\n",
       "</table>\n",
       "<p>5 rows × 1677 columns</p>\n",
       "</div>"
      ],
      "text/plain": [
       "   Year_of_Release  NA_Sales  EU_Sales  JP_Sales  Other_Sales  Critic_Score  \\\n",
       "0           2006.0     41.36     28.96      3.77         8.45          76.0   \n",
       "2           2008.0     15.68     12.76      3.79         3.29          82.0   \n",
       "3           2009.0     15.61     10.93      3.28         2.95          80.0   \n",
       "6           2006.0     11.28      9.14      6.50         2.88          89.0   \n",
       "7           2006.0     13.96      9.18      2.93         2.84          58.0   \n",
       "\n",
       "   Critic_Count  User_Count  Platform_3DS  Platform_DC  ...  \\\n",
       "0          51.0       322.0             0            0  ...   \n",
       "2          73.0       709.0             0            0  ...   \n",
       "3          73.0       192.0             0            0  ...   \n",
       "6          65.0       431.0             0            0  ...   \n",
       "7          41.0       129.0             0            0  ...   \n",
       "\n",
       "   Developer_h.a.n.d. Inc.  Developer_iNiS  Developer_id Software  \\\n",
       "0                        0               0                      0   \n",
       "2                        0               0                      0   \n",
       "3                        0               0                      0   \n",
       "6                        0               0                      0   \n",
       "7                        0               0                      0   \n",
       "\n",
       "   Developer_id Software, Nerve Software  \\\n",
       "0                                      0   \n",
       "2                                      0   \n",
       "3                                      0   \n",
       "6                                      0   \n",
       "7                                      0   \n",
       "\n",
       "   Developer_id Software, Raven Software  Developer_n-Space  \\\n",
       "0                                      0                  0   \n",
       "2                                      0                  0   \n",
       "3                                      0                  0   \n",
       "6                                      0                  0   \n",
       "7                                      0                  0   \n",
       "\n",
       "   Developer_neo Software  Developer_odenis studio  Developer_syn Sophia  \\\n",
       "0                       0                        0                     0   \n",
       "2                       0                        0                     0   \n",
       "3                       0                        0                     0   \n",
       "6                       0                        0                     0   \n",
       "7                       0                        0                     0   \n",
       "\n",
       "   Developer_zSlide  \n",
       "0                 0  \n",
       "2                 0  \n",
       "3                 0  \n",
       "6                 0  \n",
       "7                 0  \n",
       "\n",
       "[5 rows x 1677 columns]"
      ]
     },
     "execution_count": 12,
     "metadata": {},
     "output_type": "execute_result"
    }
   ],
   "source": [
    "# Using pandas.get_dummies() create dummy variables for categorical features (needs 1 line of code only)\n",
    "X = pd.get_dummies(X)\n",
    "\n",
    "print(X.shape)\n",
    "X.head()"
   ]
  },
  {
   "cell_type": "code",
   "execution_count": 13,
   "metadata": {
    "colab": {
     "base_uri": "https://localhost:8080/",
     "height": 147
    },
    "colab_type": "code",
    "executionInfo": {
     "elapsed": 601,
     "status": "ok",
     "timestamp": 1584071879627,
     "user": {
      "displayName": "Sanaa Mironov",
      "photoUrl": "https://lh3.googleusercontent.com/a-/AOh14GgATq5J8oFPh3HK3TB5aa66p6ZzMI4XUdabm8YO=s64",
      "userId": "05128163617638463476"
     },
     "user_tz": 240
    },
    "id": "X_XWIUqHBxv_",
    "outputId": "b0bd96e6-5de0-46d7-c362-45614dc3c222"
   },
   "outputs": [
    {
     "name": "stdout",
     "output_type": "stream",
     "text": [
      "(6825,)\n",
      "['E' 'M' 'T' 'E10+' 'AO' 'K-A' 'RP']\n"
     ]
    },
    {
     "data": {
      "text/plain": [
       "0    E\n",
       "2    E\n",
       "3    E\n",
       "6    E\n",
       "7    E\n",
       "Name: Rating, dtype: object"
      ]
     },
     "execution_count": 13,
     "metadata": {},
     "output_type": "execute_result"
    }
   ],
   "source": [
    "# Print y shape and head and its unique values\n",
    "print(y.shape)\n",
    "print(y.unique())\n",
    "y.head()"
   ]
  },
  {
   "cell_type": "markdown",
   "metadata": {
    "colab_type": "text",
    "id": "E-Qn0mrkBxwC"
   },
   "source": [
    "> You must convert your categorical labels/classes to numerical from 0 to 6. In Assignment-1, you used scikit-learn to do it. Here is another useful technique provided to you using `map` and `lambda` for conversion and the output type will be preserved as pandas series. NOTE: Your ourput should precisely match with the provided output."
   ]
  },
  {
   "cell_type": "code",
   "execution_count": 14,
   "metadata": {
    "colab": {
     "base_uri": "https://localhost:8080/",
     "height": 163
    },
    "colab_type": "code",
    "executionInfo": {
     "elapsed": 713,
     "status": "ok",
     "timestamp": 1584071882260,
     "user": {
      "displayName": "Sanaa Mironov",
      "photoUrl": "https://lh3.googleusercontent.com/a-/AOh14GgATq5J8oFPh3HK3TB5aa66p6ZzMI4XUdabm8YO=s64",
      "userId": "05128163617638463476"
     },
     "user_tz": 240
    },
    "id": "U5QOQkSDBxwD",
    "outputId": "026af19a-9f73-4a94-b4fb-43c4bde8bd24"
   },
   "outputs": [
    {
     "name": "stdout",
     "output_type": "stream",
     "text": [
      "[0 3 2 1 4 5 6]\n",
      "(6825,)\n",
      "<class 'pandas.core.series.Series'>\n"
     ]
    },
    {
     "data": {
      "text/plain": [
       "0    0\n",
       "2    0\n",
       "3    0\n",
       "6    0\n",
       "7    0\n",
       "Name: Rating, dtype: int64"
      ]
     },
     "execution_count": 14,
     "metadata": {},
     "output_type": "execute_result"
    }
   ],
   "source": [
    "# Convert categorical class labels to numerical\n",
    "y = y.map(lambda x: {'E' :0, 'E10+' :1, 'T' :2, 'M' :3, 'AO' :4, 'K-A' :5, 'RP' :6}.get(x))\n",
    "\n",
    "print(y.unique())\n",
    "print(y.shape)\n",
    "print(type(y))\n",
    "y.head()"
   ]
  },
  {
   "cell_type": "markdown",
   "metadata": {
    "colab_type": "text",
    "id": "Iv6R9znGBxwG"
   },
   "source": [
    "> <b>Note:</b> The output of the following cell is provided to you for your reference. All the following cells depend on the correctness of your preprocessing steps and can be verified by this output."
   ]
  },
  {
   "cell_type": "code",
   "execution_count": 15,
   "metadata": {
    "colab": {
     "base_uri": "https://localhost:8080/",
     "height": 303
    },
    "colab_type": "code",
    "executionInfo": {
     "elapsed": 1851,
     "status": "ok",
     "timestamp": 1584071886254,
     "user": {
      "displayName": "Sanaa Mironov",
      "photoUrl": "https://lh3.googleusercontent.com/a-/AOh14GgATq5J8oFPh3HK3TB5aa66p6ZzMI4XUdabm8YO=s64",
      "userId": "05128163617638463476"
     },
     "user_tz": 240
    },
    "id": "rOA9ZoyyBxwH",
    "outputId": "3ca3e6c4-c8ae-46e9-e83f-d464f04d1757"
   },
   "outputs": [
    {
     "name": "stdout",
     "output_type": "stream",
     "text": [
      "(6825, 1677)\n"
     ]
    },
    {
     "data": {
      "text/html": [
       "<div>\n",
       "<style scoped>\n",
       "    .dataframe tbody tr th:only-of-type {\n",
       "        vertical-align: middle;\n",
       "    }\n",
       "\n",
       "    .dataframe tbody tr th {\n",
       "        vertical-align: top;\n",
       "    }\n",
       "\n",
       "    .dataframe thead th {\n",
       "        text-align: right;\n",
       "    }\n",
       "</style>\n",
       "<table border=\"1\" class=\"dataframe\">\n",
       "  <thead>\n",
       "    <tr style=\"text-align: right;\">\n",
       "      <th></th>\n",
       "      <th>Year_of_Release</th>\n",
       "      <th>NA_Sales</th>\n",
       "      <th>EU_Sales</th>\n",
       "      <th>JP_Sales</th>\n",
       "      <th>Other_Sales</th>\n",
       "      <th>Critic_Score</th>\n",
       "      <th>Critic_Count</th>\n",
       "      <th>User_Count</th>\n",
       "      <th>Platform_3DS</th>\n",
       "      <th>Platform_DC</th>\n",
       "      <th>...</th>\n",
       "      <th>Developer_h.a.n.d. Inc.</th>\n",
       "      <th>Developer_iNiS</th>\n",
       "      <th>Developer_id Software</th>\n",
       "      <th>Developer_id Software, Nerve Software</th>\n",
       "      <th>Developer_id Software, Raven Software</th>\n",
       "      <th>Developer_n-Space</th>\n",
       "      <th>Developer_neo Software</th>\n",
       "      <th>Developer_odenis studio</th>\n",
       "      <th>Developer_syn Sophia</th>\n",
       "      <th>Developer_zSlide</th>\n",
       "    </tr>\n",
       "  </thead>\n",
       "  <tbody>\n",
       "    <tr>\n",
       "      <td>0</td>\n",
       "      <td>-0.341176</td>\n",
       "      <td>42.346639</td>\n",
       "      <td>41.790569</td>\n",
       "      <td>12.886767</td>\n",
       "      <td>31.004904</td>\n",
       "      <td>0.413014</td>\n",
       "      <td>1.147975</td>\n",
       "      <td>0.250716</td>\n",
       "      <td>-0.15243</td>\n",
       "      <td>-0.045334</td>\n",
       "      <td>...</td>\n",
       "      <td>-0.029661</td>\n",
       "      <td>-0.024214</td>\n",
       "      <td>-0.034254</td>\n",
       "      <td>-0.012105</td>\n",
       "      <td>-0.020969</td>\n",
       "      <td>-0.043682</td>\n",
       "      <td>-0.012105</td>\n",
       "      <td>-0.012105</td>\n",
       "      <td>-0.01712</td>\n",
       "      <td>-0.012105</td>\n",
       "    </tr>\n",
       "    <tr>\n",
       "      <td>2</td>\n",
       "      <td>0.133743</td>\n",
       "      <td>15.800856</td>\n",
       "      <td>18.221103</td>\n",
       "      <td>12.956315</td>\n",
       "      <td>11.884655</td>\n",
       "      <td>0.845647</td>\n",
       "      <td>2.292368</td>\n",
       "      <td>0.909519</td>\n",
       "      <td>-0.15243</td>\n",
       "      <td>-0.045334</td>\n",
       "      <td>...</td>\n",
       "      <td>-0.029661</td>\n",
       "      <td>-0.024214</td>\n",
       "      <td>-0.034254</td>\n",
       "      <td>-0.012105</td>\n",
       "      <td>-0.020969</td>\n",
       "      <td>-0.043682</td>\n",
       "      <td>-0.012105</td>\n",
       "      <td>-0.012105</td>\n",
       "      <td>-0.01712</td>\n",
       "      <td>-0.012105</td>\n",
       "    </tr>\n",
       "    <tr>\n",
       "      <td>3</td>\n",
       "      <td>0.371202</td>\n",
       "      <td>15.728496</td>\n",
       "      <td>15.558627</td>\n",
       "      <td>11.182831</td>\n",
       "      <td>10.624793</td>\n",
       "      <td>0.701436</td>\n",
       "      <td>2.292368</td>\n",
       "      <td>0.029412</td>\n",
       "      <td>-0.15243</td>\n",
       "      <td>-0.045334</td>\n",
       "      <td>...</td>\n",
       "      <td>-0.029661</td>\n",
       "      <td>-0.024214</td>\n",
       "      <td>-0.034254</td>\n",
       "      <td>-0.012105</td>\n",
       "      <td>-0.020969</td>\n",
       "      <td>-0.043682</td>\n",
       "      <td>-0.012105</td>\n",
       "      <td>-0.012105</td>\n",
       "      <td>-0.01712</td>\n",
       "      <td>-0.012105</td>\n",
       "    </tr>\n",
       "    <tr>\n",
       "      <td>6</td>\n",
       "      <td>-0.341176</td>\n",
       "      <td>11.252514</td>\n",
       "      <td>12.954346</td>\n",
       "      <td>22.380122</td>\n",
       "      <td>10.365410</td>\n",
       "      <td>1.350385</td>\n",
       "      <td>1.876225</td>\n",
       "      <td>0.436270</td>\n",
       "      <td>-0.15243</td>\n",
       "      <td>-0.045334</td>\n",
       "      <td>...</td>\n",
       "      <td>-0.029661</td>\n",
       "      <td>-0.024214</td>\n",
       "      <td>-0.034254</td>\n",
       "      <td>-0.012105</td>\n",
       "      <td>-0.020969</td>\n",
       "      <td>-0.043682</td>\n",
       "      <td>-0.012105</td>\n",
       "      <td>-0.012105</td>\n",
       "      <td>-0.01712</td>\n",
       "      <td>-0.012105</td>\n",
       "    </tr>\n",
       "    <tr>\n",
       "      <td>7</td>\n",
       "      <td>-0.341176</td>\n",
       "      <td>14.022868</td>\n",
       "      <td>13.012543</td>\n",
       "      <td>9.965734</td>\n",
       "      <td>10.217191</td>\n",
       "      <td>-0.884885</td>\n",
       "      <td>0.627797</td>\n",
       "      <td>-0.077835</td>\n",
       "      <td>-0.15243</td>\n",
       "      <td>-0.045334</td>\n",
       "      <td>...</td>\n",
       "      <td>-0.029661</td>\n",
       "      <td>-0.024214</td>\n",
       "      <td>-0.034254</td>\n",
       "      <td>-0.012105</td>\n",
       "      <td>-0.020969</td>\n",
       "      <td>-0.043682</td>\n",
       "      <td>-0.012105</td>\n",
       "      <td>-0.012105</td>\n",
       "      <td>-0.01712</td>\n",
       "      <td>-0.012105</td>\n",
       "    </tr>\n",
       "  </tbody>\n",
       "</table>\n",
       "<p>5 rows × 1677 columns</p>\n",
       "</div>"
      ],
      "text/plain": [
       "   Year_of_Release   NA_Sales   EU_Sales   JP_Sales  Other_Sales  \\\n",
       "0        -0.341176  42.346639  41.790569  12.886767    31.004904   \n",
       "2         0.133743  15.800856  18.221103  12.956315    11.884655   \n",
       "3         0.371202  15.728496  15.558627  11.182831    10.624793   \n",
       "6        -0.341176  11.252514  12.954346  22.380122    10.365410   \n",
       "7        -0.341176  14.022868  13.012543   9.965734    10.217191   \n",
       "\n",
       "   Critic_Score  Critic_Count  User_Count  Platform_3DS  Platform_DC  ...  \\\n",
       "0      0.413014      1.147975    0.250716      -0.15243    -0.045334  ...   \n",
       "2      0.845647      2.292368    0.909519      -0.15243    -0.045334  ...   \n",
       "3      0.701436      2.292368    0.029412      -0.15243    -0.045334  ...   \n",
       "6      1.350385      1.876225    0.436270      -0.15243    -0.045334  ...   \n",
       "7     -0.884885      0.627797   -0.077835      -0.15243    -0.045334  ...   \n",
       "\n",
       "   Developer_h.a.n.d. Inc.  Developer_iNiS  Developer_id Software  \\\n",
       "0                -0.029661       -0.024214              -0.034254   \n",
       "2                -0.029661       -0.024214              -0.034254   \n",
       "3                -0.029661       -0.024214              -0.034254   \n",
       "6                -0.029661       -0.024214              -0.034254   \n",
       "7                -0.029661       -0.024214              -0.034254   \n",
       "\n",
       "   Developer_id Software, Nerve Software  \\\n",
       "0                              -0.012105   \n",
       "2                              -0.012105   \n",
       "3                              -0.012105   \n",
       "6                              -0.012105   \n",
       "7                              -0.012105   \n",
       "\n",
       "   Developer_id Software, Raven Software  Developer_n-Space  \\\n",
       "0                              -0.020969          -0.043682   \n",
       "2                              -0.020969          -0.043682   \n",
       "3                              -0.020969          -0.043682   \n",
       "6                              -0.020969          -0.043682   \n",
       "7                              -0.020969          -0.043682   \n",
       "\n",
       "   Developer_neo Software  Developer_odenis studio  Developer_syn Sophia  \\\n",
       "0               -0.012105                -0.012105              -0.01712   \n",
       "2               -0.012105                -0.012105              -0.01712   \n",
       "3               -0.012105                -0.012105              -0.01712   \n",
       "6               -0.012105                -0.012105              -0.01712   \n",
       "7               -0.012105                -0.012105              -0.01712   \n",
       "\n",
       "   Developer_zSlide  \n",
       "0         -0.012105  \n",
       "2         -0.012105  \n",
       "3         -0.012105  \n",
       "6         -0.012105  \n",
       "7         -0.012105  \n",
       "\n",
       "[5 rows x 1677 columns]"
      ]
     },
     "execution_count": 15,
     "metadata": {},
     "output_type": "execute_result"
    }
   ],
   "source": [
    "# Normalize X using mean() and std()  NOTE: The output is provided for your reference.\n",
    "# Calculate means and standard deviations of each column in X\n",
    "Xstds =  X.std()\n",
    "Xmeans = X.mean() \n",
    "\n",
    "# Use the means and standard deviations to standardize X \n",
    "X = (X-Xmeans)/Xstds\n",
    "\n",
    "print(X.shape)\n",
    "X.head()"
   ]
  },
  {
   "cell_type": "code",
   "execution_count": 16,
   "metadata": {
    "colab": {
     "base_uri": "https://localhost:8080/",
     "height": 82
    },
    "colab_type": "code",
    "executionInfo": {
     "elapsed": 1626,
     "status": "ok",
     "timestamp": 1584071893733,
     "user": {
      "displayName": "Sanaa Mironov",
      "photoUrl": "https://lh3.googleusercontent.com/a-/AOh14GgATq5J8oFPh3HK3TB5aa66p6ZzMI4XUdabm8YO=s64",
      "userId": "05128163617638463476"
     },
     "user_tz": 240
    },
    "id": "pT_IwdzMBxwJ",
    "outputId": "2dad2eda-4127-4ddb-c96d-8f6cb70d5a12"
   },
   "outputs": [
    {
     "name": "stdout",
     "output_type": "stream",
     "text": [
      "(5460, 1677)\n",
      "(5460,)\n",
      "(1365, 1677)\n",
      "(1365,)\n"
     ]
    }
   ],
   "source": [
    "# Split the data to train and test with ratio of 80/20 for train/test respectively\n",
    "# Split the data to training set and testing set\n",
    "X_train, X_test, y_train, y_test = train_test_split(X, y, test_size=0.20)\n",
    "\n",
    "print(X_train.shape)\n",
    "print(y_train.shape)\n",
    "print(X_test.shape)\n",
    "print(y_test.shape)"
   ]
  },
  {
   "cell_type": "markdown",
   "metadata": {
    "colab_type": "text",
    "id": "7j2uPiMwBxwR"
   },
   "source": [
    "## Part II - Multi-Class Classification Using Random Forests"
   ]
  },
  {
   "cell_type": "markdown",
   "metadata": {
    "colab_type": "text",
    "id": "tdsIoqyuBxwT"
   },
   "source": [
    "Next, you're going to build classifiers. Some classifiers like [Random Forests in sklearn](https://scikit-learn.org/stable/modules/generated/sklearn.ensemble.RandomForestClassifier.html) can directly be applied on multi-class classification, so let's try RF first.\n",
    "\n",
    "You may start with default hyperparameters, but you should definitely fine-tune them as described in the following cell to achieve at least 0.65 for mean cv score. Your cv score should use `accuracy` as its metric. Also notice that - as discussed in the lectures - you must apply `cross_val_score` on the whole dataset (not just on training or testing set). You may see the full documentation of `cross_val_score` [here](https://scikit-learn.org/stable/modules/generated/sklearn.model_selection.cross_val_score.html).\n",
    "\n",
    "> Note: Depending on the speed of your computer and the hyperparameter values you choose, running this cell may take a few minutes."
   ]
  },
  {
   "cell_type": "code",
   "execution_count": 148,
   "metadata": {
    "colab": {},
    "colab_type": "code",
    "id": "6LeYpqxBBxwU"
   },
   "outputs": [],
   "source": [
    "# Create a RandomForestClassifier - You may start with default hyperparameters,\n",
    "# but you should fine-tune them to achieve at least 0.65 for mean cv score\n",
    "rf_clf = RandomForestClassifier()"
   ]
  },
  {
   "cell_type": "code",
   "execution_count": 150,
   "metadata": {
    "colab": {
     "base_uri": "https://localhost:8080/",
     "height": 33
    },
    "colab_type": "code",
    "executionInfo": {
     "elapsed": 47451,
     "status": "ok",
     "timestamp": 1584071951790,
     "user": {
      "displayName": "Sanaa Mironov",
      "photoUrl": "https://lh3.googleusercontent.com/a-/AOh14GgATq5J8oFPh3HK3TB5aa66p6ZzMI4XUdabm8YO=s64",
      "userId": "05128163617638463476"
     },
     "user_tz": 240
    },
    "id": "eqtS7A14BxwY",
    "outputId": "4e00c1e6-6c5f-4b48-d433-4bcaab1f0656"
   },
   "outputs": [
    {
     "name": "stdout",
     "output_type": "stream",
     "text": [
      "Mean cv Score - Random Forest:  0.6261796007577709\n"
     ]
    }
   ],
   "source": [
    "# Perform a 10-fold cross validation\n",
    "# Hint: cross validation should be done on the whole dataset\n",
    "rf_cv_score = cross_val_score(rf_clf, X, y, cv = 10, scoring ='accuracy',n_jobs= -1)\n",
    "\n",
    "print(\"Mean cv Score - Random Forest: \", rf_cv_score.mean())"
   ]
  },
  {
   "cell_type": "markdown",
   "metadata": {
    "colab_type": "text",
    "id": "EYEHJiwiBxwb"
   },
   "source": [
    "> Next, you're going to fine-tune your rf classifier based on `n_estimators` hyperparameter. Depending on your computer speed, this may take a long time. Read the comments in the following cell, and plot the impact of n_estimators on mean cv scores. To make it a bit faster, you're going to change cv to 5-fold. cv `scoring` will still be `accuracy`."
   ]
  },
  {
   "cell_type": "code",
   "execution_count": 151,
   "metadata": {
    "colab": {
     "base_uri": "https://localhost:8080/",
     "height": 361
    },
    "colab_type": "code",
    "executionInfo": {
     "elapsed": 594853,
     "status": "error",
     "timestamp": 1584072565808,
     "user": {
      "displayName": "Sanaa Mironov",
      "photoUrl": "https://lh3.googleusercontent.com/a-/AOh14GgATq5J8oFPh3HK3TB5aa66p6ZzMI4XUdabm8YO=s64",
      "userId": "05128163617638463476"
     },
     "user_tz": 240
    },
    "id": "_pie9CrhBxwc",
    "outputId": "1f88539b-e3df-497c-c446-af69c80297a8"
   },
   "outputs": [],
   "source": [
    "# Now fine-tune n_estimators hyperparameter as follows:\n",
    "\n",
    "# 1- Write a for loop that iterates over n_estimators from 1 to 100\n",
    "# 2- In each iteration, do 5-fold cv and calculate rf_cv_score.mean()\n",
    "# and append it to the list rf_mean_cv_scores\n",
    "# 3- Finally, plot rf_mean_cv_scores on y-axis versus n_est_list on x-axis\n",
    "# Your plot should have title \"Fine-tuning n_estimators\", and label for each axis\n",
    "# Incomplete plots will get ZERO credit!\n",
    "\n",
    "# NOTE: Depending on your computer speed, running this may take well more than an hour or even several hours!\n",
    "\n",
    "rf_mean_cv_scores = []\n",
    "n_est_list = range(1, 100)\n",
    "\n",
    "for i in n_est_list:\n",
    "    rf_clf = RandomForestClassifier(n_estimators=i)\n",
    "    rf_cv_score = cross_val_score(rf_clf, X, y, cv = 5, scoring ='accuracy',n_jobs= -1)\n",
    "    rf_cv_score_mean = rf_cv_score.mean()\n",
    "    rf_mean_cv_scores.append(rf_cv_score_mean)"
   ]
  },
  {
   "cell_type": "code",
   "execution_count": 152,
   "metadata": {
    "colab": {},
    "colab_type": "code",
    "id": "H9uvZ5KOCzN5",
    "scrolled": true
   },
   "outputs": [
    {
     "data": {
      "image/png": "[encoded data removed]",
      "text/plain": [
       "<Figure size 432x288 with 1 Axes>"
      ]
     },
     "metadata": {
      "needs_background": "light"
     },
     "output_type": "display_data"
    }
   ],
   "source": [
    " # Plot Fine-tuning n_estimators for Random Forest Classifier \n",
    "plt.title('Fine-tuning n_estimators')\n",
    "plt.plot(n_est_list,rf_mean_cv_scores, \"-\")\n",
    "plt.xlabel(\"n_est_list\", fontsize=18)\n",
    "plt.ylabel(\"rf_mean_cv_scores\", fontsize=18)\n",
    "plt.show()"
   ]
  },
  {
   "cell_type": "code",
   "execution_count": 153,
   "metadata": {},
   "outputs": [
    {
     "name": "stdout",
     "output_type": "stream",
     "text": [
      "Mean cv Score - Random Forest:  0.6761542543293726\n"
     ]
    }
   ],
   "source": [
    "#For testing only \n",
    "rf_clf = RandomForestClassifier(n_estimators= 100)\n",
    "rf_cv_score = cross_val_score(rf_clf, X, y, cv = 10, scoring ='accuracy',n_jobs= -1)\n",
    "\n",
    "print(\"Mean cv Score - Random Forest: \", rf_cv_score.mean())"
   ]
  },
  {
   "cell_type": "code",
   "execution_count": 154,
   "metadata": {
    "colab": {},
    "colab_type": "code",
    "id": "eR21rjG4Bxwf"
   },
   "outputs": [
    {
     "data": {
      "text/plain": [
       "RandomForestClassifier(bootstrap=True, class_weight=None, criterion='gini',\n",
       "                       max_depth=None, max_features='auto', max_leaf_nodes=None,\n",
       "                       min_impurity_decrease=0.0, min_impurity_split=None,\n",
       "                       min_samples_leaf=1, min_samples_split=2,\n",
       "                       min_weight_fraction_leaf=0.0, n_estimators=100,\n",
       "                       n_jobs=None, oob_score=False, random_state=None,\n",
       "                       verbose=0, warm_start=False)"
      ]
     },
     "execution_count": 154,
     "metadata": {},
     "output_type": "execute_result"
    }
   ],
   "source": [
    "# Fit the rf_clf on the training set\n",
    "rf_clf.fit(X_train, y_train)"
   ]
  },
  {
   "cell_type": "code",
   "execution_count": 155,
   "metadata": {
    "colab": {},
    "colab_type": "code",
    "id": "DhfV84upBxwj"
   },
   "outputs": [
    {
     "name": "stdout",
     "output_type": "stream",
     "text": [
      "Platform 0.043527284786686174\n",
      "Year_of_Release 0.04120795848280269\n",
      "Genre 0.03758970043238106\n",
      "Publisher 0.020051046190062243\n",
      "NA_Sales 0.03249254177897339\n",
      "EU_Sales 0.04494476001604734\n",
      "JP_Sales 0.05185762538595819\n",
      "Other_Sales 0.06361721450621512\n",
      "Critic_Score 0.002829057560431089\n",
      "Critic_Count 0.00020524654075893318\n",
      "User_Score 0.008949972175171147\n",
      "User_Count 0.006506821380665944\n",
      "Developer 0.0033574697751524705\n",
      "Rating 0.005182790020139361\n"
     ]
    }
   ],
   "source": [
    "# Get feature_importances of rf for all features\n",
    "for name, score in zip(game_data, rf_clf.feature_importances_):\n",
    "    print(name, score)"
   ]
  },
  {
   "cell_type": "code",
   "execution_count": 156,
   "metadata": {
    "colab": {},
    "colab_type": "code",
    "id": "0_vfVldiBxwn"
   },
   "outputs": [],
   "source": [
    "# Make predictions on test set\n",
    "y_pred = rf_clf.predict(X_test)"
   ]
  },
  {
   "cell_type": "code",
   "execution_count": 157,
   "metadata": {
    "colab": {},
    "colab_type": "code",
    "id": "-xYdCrs8Bxwq"
   },
   "outputs": [
    {
     "name": "stdout",
     "output_type": "stream",
     "text": [
      "              precision    recall  f1-score   support\n",
      "\n",
      "           0       0.75      0.84      0.79       418\n",
      "           1       0.68      0.36      0.47       173\n",
      "           2       0.65      0.76      0.70       465\n",
      "           3       0.80      0.67      0.73       309\n",
      "\n",
      "    accuracy                           0.71      1365\n",
      "   macro avg       0.72      0.66      0.67      1365\n",
      "weighted avg       0.72      0.71      0.71      1365\n",
      "\n"
     ]
    }
   ],
   "source": [
    "# Get classification report # Note: You must import the related module from sklearn to run this cell!\n",
    "print(metrics.classification_report(y_test, y_pred))"
   ]
  },
  {
   "cell_type": "markdown",
   "metadata": {
    "colab_type": "text",
    "id": "NSsRZA1QBxwt"
   },
   "source": [
    "### Part II Questions\n",
    "\n",
    "Answer the following question HERE:\n",
    "\n",
    "Q1 [3 points] - According to `feature_importance` of rf classifier, (which works based on the average impurity reduction of the feature across all trees of the forest) what are the most important features in predicting Rating? Name top five.\n",
    "    - Other_Sales\n",
    "    - JP_Sales\n",
    "    - Platform\n",
    "    - EU_Sales\n",
    "    - Year_of_Release\n",
    "\n",
    "Q2 [2 points]- According to your plot, what is the best range for n_estimators?\n",
    "               - The best range for n_estimator is from 45 to 56 which has a value of .67\n",
    "               - The nest best range for n_estimtor is from 19-45 and then 58-100 which stays between .65-.66\n",
    "\n",
    "Q3 [3 points] - According to the classification report of rf classifier, which classes are relatively easier to classify? Compare different metrics of each class label that you see in the classification report.\n",
    "\n",
    "\n",
    "Different ways to measure the performance of your classified. Text summary of the precision, recall, F1 score for each class (each class is a row). Precision is how many true positives you get over the number of true positives plus false positives. Be recall is true positives over true positives plus false negatives . You want to maximize recall when you’re more concerned about getting false negatives. But maximize precision when you’re more worried about getting false positives. When both are important you can use f 1 score which is a combo of the two. Macro -Calculate metrics for each label, and find their unweighted mean. This does not take label imbalance into account.weighted average (averaging the support-weighted mean per label).\n",
    "\n",
    "Looking at the different class from 0 to 3 we can stated that:\n",
    "class 0 the overall precision, recall and F-1, are those of the positive class\n",
    "class 1 the overall precision, recall and F-1, are those of the negative class\n",
    "class 2 the overall precision, recall and F-1, are those of the positive class\n",
    "class 3 the overall precision, recall and F-1, are those of the positive class"
   ]
  },
  {
   "cell_type": "markdown",
   "metadata": {
    "colab_type": "text",
    "id": "F3UpNsFfBxwt"
   },
   "source": [
    "## Part III - Multi-Class Classification Using SVM and Kernels"
   ]
  },
  {
   "cell_type": "markdown",
   "metadata": {
    "colab_type": "text",
    "id": "jwTnF93fBxwu"
   },
   "source": [
    "In Part III, you're going to use SVM and kernels for multi-class classification."
   ]
  },
  {
   "cell_type": "markdown",
   "metadata": {
    "colab_type": "text",
    "id": "yg2oVgO4Bxwv"
   },
   "source": [
    "To use [SVM implementation from scikit-learn](https://scikit-learn.org/stable/modules/svm.html#multi-class-classification), you need to use OvO or OvR strategies.\n",
    "\n",
    "Remember from the lectures that SVM can be linear or non-linear using kernels. [LinearSVC](https://scikit-learn.org/stable/modules/generated/sklearn.svm.LinearSVC.html#sklearn.svm.LinearSVC) is the implementation of SVM for the case of a linear kernel.\n",
    "\n",
    "Note that [LinearSVC](https://scikit-learn.org/stable/modules/generated/sklearn.svm.LinearSVC.html#sklearn.svm.LinearSVC) does not accept keyword kernel, as this is assumed to be linear. It implements OvR multi-class strategy and uses it by default, thus training n_class models and the runtime is usually less than OvO strategy although for this dataset, it may still take a few minutes to run."
   ]
  },
  {
   "cell_type": "markdown",
   "metadata": {
    "colab_type": "text",
    "id": "4SZjllG3Bxww"
   },
   "source": [
    "## <font color=\"red\"> Required Coding"
   ]
  },
  {
   "cell_type": "code",
   "execution_count": 25,
   "metadata": {
    "colab": {},
    "colab_type": "code",
    "id": "D4qBwO-IBxw0"
   },
   "outputs": [],
   "source": [
    "# Build a linear SVM - You may start with default hyperparameters,\n",
    "# but you should fine-tune them to get at least 0.65 for mean cv score\n",
    "lin_svm_clf = svm.LinearSVC()"
   ]
  },
  {
   "cell_type": "code",
   "execution_count": 26,
   "metadata": {
    "colab": {},
    "colab_type": "code",
    "id": "hHQHItcRBxw3"
   },
   "outputs": [
    {
     "name": "stdout",
     "output_type": "stream",
     "text": [
      "Mean cv Score - Linear SVM:  0.6729426124672082\n"
     ]
    }
   ],
   "source": [
    "# Perform a 10-fold cross validation\n",
    "# Hint: cross validation should be done on the whole dataset\n",
    "lin_svm_cv_score = cross_val_score(lin_svm_clf, X, y, cv = 10, n_jobs= -1)\n",
    "print(\"Mean cv Score - Linear SVM: \", lin_svm_cv_score.mean())"
   ]
  },
  {
   "cell_type": "code",
   "execution_count": 48,
   "metadata": {
    "colab": {},
    "colab_type": "code",
    "id": "x-vnPKA4Bxw6"
   },
   "outputs": [],
   "source": [
    "# Now fine-tune C hyperparameter as follows:\n",
    "\n",
    "# 1- Write a for loop that iterates over C from 1 to 100\n",
    "# 2- In each iteration, do 5-fold cv and calculate lin_svm_cv_score.mean()\n",
    "# and append it to the list svm_mean_cv_scores\n",
    "# 3- Finally, plot svm_mean_cv_scores on y-axis versus C_values on x-axis\n",
    "# Your plot should have title \"Fine-tuning C Hyperparameter\", and label for each axis\n",
    "# Incomplete plots will get ZERO credit!\n",
    "\n",
    "# NOTE: Depending on your computer speed, running this may take well more than an hour or even more!\n",
    "\n",
    "svm_mean_cv_scores = []\n",
    "C_values = range(1, 100)\n",
    "\n",
    "for i in C_values:\n",
    "    lin_svm_clf = svm.LinearSVC(C=i)\n",
    "    lin_svm_cv_score = cross_val_score(lin_svm_clf, X, y, cv = 5, n_jobs= -1)\n",
    "    lin_svm_cv_mean = lin_svm_cv_score.mean()\n",
    "    svm_mean_cv_scores.append(lin_svm_cv_mean)\n"
   ]
  },
  {
   "cell_type": "code",
   "execution_count": 49,
   "metadata": {
    "colab": {},
    "colab_type": "code",
    "id": "IID_usmdBxw-"
   },
   "outputs": [
    {
     "data": {
      "image/png": "[encoded data removed]",
      "text/plain": [
       "<Figure size 432x288 with 1 Axes>"
      ]
     },
     "metadata": {
      "needs_background": "light"
     },
     "output_type": "display_data"
    }
   ],
   "source": [
    " # Plot Fine-tuning C for Random Forest Classifier \n",
    "plt.title('Fine-tuning C Hyperparameter')\n",
    "plt.plot(C_values, svm_mean_cv_scores, \"-\")\n",
    "plt.xlabel(\"C_values\", fontsize=18)\n",
    "plt.ylabel(\"svm_mean_cv_scores\", fontsize=18)\n",
    "plt.show() "
   ]
  },
  {
   "cell_type": "code",
   "execution_count": 128,
   "metadata": {},
   "outputs": [
    {
     "name": "stdout",
     "output_type": "stream",
     "text": [
      "Mean cv Score - Linear SVM:  0.6525562844732653\n"
     ]
    }
   ],
   "source": [
    "#For testing only\n",
    "lin_svm_clf = svm.LinearSVC(C=1)\n",
    "lin_svm_cv_score = cross_val_score(lin_svm_clf, X, y, cv = 5, n_jobs= -1)\n",
    "print(\"Mean cv Score - Linear SVM: \", lin_svm_cv_score.mean())"
   ]
  },
  {
   "cell_type": "code",
   "execution_count": 129,
   "metadata": {},
   "outputs": [
    {
     "name": "stdout",
     "output_type": "stream",
     "text": [
      "Mean cv Score - Linear SVM:  0.6339585827418834\n"
     ]
    }
   ],
   "source": [
    "#For testing only\n",
    "lin_svm_clf = svm.LinearSVC(C=5)\n",
    "lin_svm_cv_score = cross_val_score(lin_svm_clf, X, y, cv = 5, n_jobs= -1)\n",
    "print(\"Mean cv Score - Linear SVM: \", lin_svm_cv_score.mean())"
   ]
  },
  {
   "cell_type": "markdown",
   "metadata": {
    "colab_type": "text",
    "id": "yDb_2jZcBxxA"
   },
   "source": [
    "> Now, let's try [kernel svm](https://scikit-learn.org/stable/modules/generated/sklearn.svm.SVC.html) on this problem. Fine-tune C hyperparameter with at least 3 values {1, 10, 100}."
   ]
  },
  {
   "cell_type": "code",
   "execution_count": 122,
   "metadata": {
    "colab": {},
    "colab_type": "code",
    "id": "FydjErYKBxxB"
   },
   "outputs": [],
   "source": [
    "# Build a kernel svm with rbf kernel\n",
    "# Note: You should specify ovo strategy, see the example in documentation section 1.4.1.1\n",
    "# https://scikit-learn.org/stable/modules/svm.html#multi-class-classification\n",
    "rbf_svm_clf = svm.SVC(kernel='rbf',decision_function_shape='ovo' )"
   ]
  },
  {
   "cell_type": "code",
   "execution_count": 123,
   "metadata": {
    "colab": {},
    "colab_type": "code",
    "id": "M61xkubGBxxD"
   },
   "outputs": [
    {
     "name": "stdout",
     "output_type": "stream",
     "text": [
      "Mean cv Score - Kernel SVM - RBF:  0.6601138002396734\n"
     ]
    }
   ],
   "source": [
    "# Perform a 10-fold cross validation\n",
    "# Hint: cross validation should be done on the whole dataset\n",
    "rbf_svm_cv_score = cross_val_score(rbf_svm_clf, X, y, cv = 10,n_jobs= -1)\n",
    "\n",
    "print(\"Mean cv Score - Kernel SVM - RBF: \", rbf_svm_cv_score.mean())"
   ]
  },
  {
   "cell_type": "code",
   "execution_count": 162,
   "metadata": {
    "colab": {},
    "colab_type": "code",
    "id": "PDz-j9P7BxxG"
   },
   "outputs": [],
   "source": [
    "# Build a kernel svm with polynomial kernel cx\n",
    "poly_svm_clf = svm.SVC(kernel='poly', decision_function_shape='ovo',C=100, degree=2,max_iter=100)"
   ]
  },
  {
   "cell_type": "code",
   "execution_count": 163,
   "metadata": {
    "colab": {},
    "colab_type": "code",
    "id": "zuWKd3k5BxxI"
   },
   "outputs": [
    {
     "name": "stdout",
     "output_type": "stream",
     "text": [
      "Mean cv Score - Kernel SVM - Poly:  0.6720041431140971\n"
     ]
    }
   ],
   "source": [
    "# Perform a 10-fold cross validation\n",
    "# Hint: cross validation should be done on the whole dataset\n",
    "poly_svm_cv_score = cross_val_score(poly_svm_clf, X, y, cv = 10, n_jobs= -1)\n",
    "\n",
    "print(\"Mean cv Score - Kernel SVM - Poly: \", poly_svm_cv_score.mean())"
   ]
  },
  {
   "cell_type": "markdown",
   "metadata": {
    "colab_type": "text",
    "id": "t2OHBAgKBxxM"
   },
   "source": [
    "### Part III Questions"
   ]
  },
  {
   "cell_type": "markdown",
   "metadata": {
    "colab_type": "text",
    "id": "lQ9w8ihlBxxN"
   },
   "source": [
    "Anwser the following question HERE:\n",
    "\n",
    "Q1 [2 points] - According to the plot, what is the best range of values for C hyperparameter of linear SVM?\n",
    "    - The best range of calues for C hyperparameter is from 1-3. After that it starts decreasing in it prediction. \n",
    "\n",
    "Q2 [2 points] - Acording to your experiments, which non-linear kernel worked better on this dataset? Was it better to use linear svm or kernel svm on this dataset?\n",
    "    - Based on my experiments Linear SVM performed the best followed by kernel svm with rbf kernel. The worse perofrmance was kernel svm with poly kernel. I couldnt get it past its thresold of 65."
   ]
  },
  {
   "cell_type": "markdown",
   "metadata": {
    "colab_type": "text",
    "id": "O8kxjHTbBxxN"
   },
   "source": [
    "## Grading\n",
    "\n",
    "Assignment-2 has a maximum of 100 points. Make sure that you get the correct outputs for all cells that you implement and give complete answers to all questions. Also, your notebook should be written with no grammatical and spelling errors and should be easy-to-read.\n",
    "\n",
    "The breakdown of the 100 points is as follows:\n",
    "\n",
    "- Part I preprocessing: 10 points (if you don't get the correct X and y, your whole assignment will get no credit!\n",
    "\n",
    "- Part II Random Forests - 40 points\n",
    "    - Implementation and training: 12 points\n",
    "    - Fine-tuning plot: 20 points\n",
    "    - Questions: 8 points\n",
    "\n",
    "- Part III SVM and Kernels - 50 points\n",
    "    - Implementation and training: 26 points\n",
    "    - Fine-tuning C plot: 20 points\n",
    "    - Questions: 4 points\n",
    "\n",
    "<b>Note: </b>Follow the instructions of each section carefully. Up to 10 points may be deducted if your submitted notebook is not easy to read and follow or if it has grammatical, spelling or formatting issues."
   ]
  },
  {
   "cell_type": "markdown",
   "metadata": {
    "colab_type": "text",
    "id": "D7XzmAP4BxxO"
   },
   "source": [
    "Name your notebook ```Lastname-A2.ipynb```. Submit the completed notebook using the ```Assignment-2``` link on Blackboard.\n",
    "\n",
    "Grading will be based on \n",
    "\n",
    "  * correct implementation, correct answer to the questions, and\n",
    "  * readability of the notebook.\n",
    "  \n",
    "<font color=red><b>Due Date: Saturday March 14th, 11:59PM.</b></font>"
   ]
  }
 ],
 "metadata": {
  "colab": {
   "name": "Assignment-2.ipynb",
   "provenance": [],
   "toc_visible": true
  },
  "kernelspec": {
   "display_name": "Python 3",
   "language": "python",
   "name": "python3"
  },
  "language_info": {
   "codemirror_mode": {
    "name": "ipython",
    "version": 3
   },
   "file_extension": ".py",
   "mimetype": "text/x-python",
   "name": "python",
   "nbconvert_exporter": "python",
   "pygments_lexer": "ipython3",
   "version": "3.7.4"
  }
 },
 "nbformat": 4,
 "nbformat_minor": 1
}
